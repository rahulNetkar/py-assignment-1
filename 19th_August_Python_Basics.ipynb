{
 "cells": [
  {
   "cell_type": "code",
   "execution_count": 3,
   "id": "3cf8eed1",
   "metadata": {},
   "outputs": [
    {
     "name": "stdout",
     "output_type": "stream",
     "text": [
      "x = 20\n",
      "y = 10\n"
     ]
    }
   ],
   "source": [
    "''' \n",
    "Q.1) Declare two variables, `x` and `y`, and assign them integer values. Swap the\n",
    "    values of these variables without using any temporary variable. \n",
    "'''\n",
    "\n",
    "# Assigning value to variables\n",
    "x = 10\n",
    "y = 20\n",
    "\n",
    "# Swapping their respective values\n",
    "x, y = y, x\n",
    "\n",
    "# Printing swapped values\n",
    "\n",
    "print('x =', x)\n",
    "print('y =', y)"
   ]
  },
  {
   "cell_type": "code",
   "execution_count": 4,
   "id": "defa0c0f",
   "metadata": {},
   "outputs": [
    {
     "name": "stdout",
     "output_type": "stream",
     "text": [
      "Enter length of rectangle: 12\n",
      "Enter width of rectangle: 20\n",
      "The area of the rectangle is = 240\n"
     ]
    }
   ],
   "source": [
    "'''\n",
    "Q.2) Create a program that calculates the area of a rectangle. Take the length and\n",
    "width as inputs from the user and store them in variables. Calculate and\n",
    "display the area.\n",
    "\n",
    "'''\n",
    "\n",
    "# Taking inputs from user\n",
    "length = int(input('Enter length of rectangle: '))\n",
    "width = int(input('Enter width of rectangle: '))\n",
    "\n",
    "# Calculating area of the rectangle\n",
    "area = length * width\n",
    "\n",
    "# Printing area\n",
    "print(\"The area of the rectangle is =\", area)"
   ]
  },
  {
   "cell_type": "code",
   "execution_count": 5,
   "id": "58f55341",
   "metadata": {},
   "outputs": [
    {
     "name": "stdout",
     "output_type": "stream",
     "text": [
      "Enter the temperature in Celsius: 38\n",
      "Temperature in Fahrenheit = 100.4\n"
     ]
    }
   ],
   "source": [
    "'''\n",
    "Q.3) Write a Python program that converts temperatures from Celsius to\n",
    "Fahrenheit. Take the temperature in Celsius as input, store it in a variable,\n",
    "convert it to Fahrenheit, and display the result.\n",
    "\n",
    "'''\n",
    "\n",
    "# Taking inputs from user\n",
    "cel = int(input('Enter the temperature in Celsius: '))\n",
    "\n",
    "#Converting celsius to fahrenheit \n",
    "far = cel * 1.8 + 32\n",
    "\n",
    "#Printing result\n",
    "print(\"Temperature in Fahrenheit =\", far)"
   ]
  },
  {
   "cell_type": "code",
   "execution_count": 6,
   "id": "5ec3be63",
   "metadata": {},
   "outputs": [
    {
     "name": "stdout",
     "output_type": "stream",
     "text": [
      "Enter the string: Hello, world!\n",
      "Length of the string is = 13\n"
     ]
    }
   ],
   "source": [
    "'''\n",
    "Q.4) Write a Python program that takes a string as input and prints the length of\n",
    "the string.\n",
    "'''\n",
    "\n",
    "# Taking input string\n",
    "string = input(\"Enter the string: \")\n",
    "\n",
    "# Printing length of string\n",
    "print('Length of the string is =', len(string))"
   ]
  },
  {
   "cell_type": "code",
   "execution_count": 10,
   "id": "887e53d1",
   "metadata": {},
   "outputs": [
    {
     "name": "stdout",
     "output_type": "stream",
     "text": [
      "Enter a sentence: My name is Rahul\n",
      "Number of vowels in the sentence are = 5\n"
     ]
    }
   ],
   "source": [
    "'''\n",
    "Q.5) Create a program that takes a sentence from the user and counts the number\n",
    "of vowels (a, e, i, o, u) in the string.\n",
    "'''\n",
    "# Taking input\n",
    "sentence = input(\"Enter a sentence: \")\n",
    "\n",
    "count = 0;\n",
    "\n",
    "# Counting vowels\n",
    "for i in sentence:\n",
    "    vowels = \"aeiouAEIOU\"\n",
    "    \n",
    "    if i in vowels:\n",
    "        count += 1\n",
    "\n",
    "# Printing count of vowels \n",
    "print(\"Number of vowels in the sentence are =\", count)"
   ]
  },
  {
   "cell_type": "code",
   "execution_count": 16,
   "id": "9b5f7656",
   "metadata": {},
   "outputs": [
    {
     "name": "stdout",
     "output_type": "stream",
     "text": [
      "Enter a sentence: Hello\n",
      "Reversed string = olleH\n"
     ]
    }
   ],
   "source": [
    "'''\n",
    "Q.6) Given a string, reverse the order of characters using string slicing and print\n",
    "the reversed string.\n",
    "'''\n",
    "\n",
    "# Taking input string\n",
    "string = input(\"Enter a sentence: \")\n",
    "\n",
    "# Reversing the string and storing it a variable\n",
    "rev = string[::-1]\n",
    "\n",
    "# Printing string\n",
    "print(\"Reversed string =\", rev)"
   ]
  },
  {
   "cell_type": "code",
   "execution_count": 20,
   "id": "a2a82875",
   "metadata": {},
   "outputs": [
    {
     "name": "stdout",
     "output_type": "stream",
     "text": [
      "Enter a sentence: Nuaun\n",
      "The given string is a palindrome\n"
     ]
    }
   ],
   "source": [
    "'''\n",
    "Q.7) Write a program that takes a string as input and checks if it is a palindrome\n",
    "(reads the same forwards and backwards).\n",
    "'''\n",
    "\n",
    "# Taking input string\n",
    "\n",
    "s = input(\"Enter a sentence: \")\n",
    "string = s.lower()\n",
    "\n",
    "# Checking if it's palindrome or not\n",
    "\n",
    "if string == string[::-1]:\n",
    "    print(\"The given string is a palindrome\")\n",
    "else:\n",
    "    print(\"The given string is not a palindrome\")"
   ]
  },
  {
   "cell_type": "code",
   "execution_count": 23,
   "id": "090c5897",
   "metadata": {},
   "outputs": [
    {
     "name": "stdout",
     "output_type": "stream",
     "text": [
      "Enter a sentence:     Hello,     world  !   \n",
      "Hello,world!\n"
     ]
    }
   ],
   "source": [
    "'''\n",
    "Q.8) Create a program that takes a string as input and removes all the spaces from\n",
    "it. Print the modified string without spaces.\n",
    "'''\n",
    "\n",
    "# Taking input string\n",
    "s = input(\"Enter a sentence: \")\n",
    "\n",
    "# Removing spaces\n",
    "ans = s.replace(\" \", \"\")\n",
    "\n",
    "# Print \n",
    "print(ans)\n"
   ]
  },
  {
   "cell_type": "code",
   "execution_count": null,
   "id": "12ace6ae",
   "metadata": {},
   "outputs": [],
   "source": []
  }
 ],
 "metadata": {
  "kernelspec": {
   "display_name": "Python 3 (ipykernel)",
   "language": "python",
   "name": "python3"
  },
  "language_info": {
   "codemirror_mode": {
    "name": "ipython",
    "version": 3
   },
   "file_extension": ".py",
   "mimetype": "text/x-python",
   "name": "python",
   "nbconvert_exporter": "python",
   "pygments_lexer": "ipython3",
   "version": "3.8.8"
  }
 },
 "nbformat": 4,
 "nbformat_minor": 5
}
